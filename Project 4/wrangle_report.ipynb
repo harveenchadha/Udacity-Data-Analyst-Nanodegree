{
 "cells": [
  {
   "cell_type": "markdown",
   "metadata": {},
   "source": [
    "WeRateDogs Data Wrangling Report\n",
    "\n",
    "Firstly I read the data in three different ways:\n",
    "\n",
    "1. Twitter_Archive data using the csv provided by Udacity\n",
    "2. Downloaded the TSV programmatically containing Image Predictions\n",
    "3. Fetched the complete Tweet data from Twitter API using tweepy\n",
    "\n",
    "Next step was the programmatic and Visual Assessment.\n",
    "From my Assessment I found out the following issues in the mentioned dataframes:\n",
    "\n",
    "Twitter Archive Dataframe:\n",
    "\n",
    "* timestamp, retweeted_status_timestamp should be datetime\n",
    "* source column does not contains a descriptive response\n",
    "* rating_numerator: some tweets rating appear to be wrong\n",
    "* expanded_urls has only 2297 entries, so we do not have image url for 59 entries\n",
    "* delete retweeted tweets as we do not want to work on them.\n",
    "* missing data for in_reply_to_status_id, in_reply_to_user_id also but that appears to be NA, we must delete them also because we don't want any info related to retweets\n",
    "* expanded url has duplicate and more than 1 urls\n",
    "* doggo, floofer, pupper, puppo should be in one column stages\n",
    "\n",
    "\n",
    "\n",
    "Image Predictions Dataframe:\n",
    "\n",
    "* Inappropriate column headers\n",
    "* Extract True Breed and Confidence\n",
    "\n",
    "\n",
    "Tweet JSON Dataframe:\n",
    "* Delete columns contributors, coordinates, geo as contains no data.\n",
    "* created_at should be converted to timestamp\n",
    "* id and id_str columns are repititive\n",
    "* user column contains a json object\n",
    "* truncate tweet_json\n",
    "* deleting irrelevant columns\n",
    "* text_range column should be truncated\n",
    "* Join all the 3 tables to create a master table\n",
    "\n",
    "These were my findings about some of the issues in the corresponding dataframes and I made my best effort to clean the data with minimum loss of data.\n",
    "\n",
    "I have used Pandas inbuilt functions whereever possible. After joining all the three columns further cleaning process was performed:\n",
    "* 'in_reply_to_status_id','in_reply_to_user_id' were dropped as the maximum data they contained was null\n",
    "* Tweets not having the images were also dropped\n",
    "\n",
    "By this I was able to find about 1994 tweets which we could pass to model and perform analysis further."
   ]
  },
  {
   "cell_type": "code",
   "execution_count": null,
   "metadata": {},
   "outputs": [],
   "source": []
  }
 ],
 "metadata": {
  "kernelspec": {
   "display_name": "Python 3",
   "language": "python",
   "name": "python3"
  },
  "language_info": {
   "codemirror_mode": {
    "name": "ipython",
    "version": 3
   },
   "file_extension": ".py",
   "mimetype": "text/x-python",
   "name": "python",
   "nbconvert_exporter": "python",
   "pygments_lexer": "ipython3",
   "version": "3.6.3"
  }
 },
 "nbformat": 4,
 "nbformat_minor": 2
}
