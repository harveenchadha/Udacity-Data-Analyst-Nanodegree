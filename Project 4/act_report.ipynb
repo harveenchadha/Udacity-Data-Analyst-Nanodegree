{
 "cells": [
  {
   "cell_type": "markdown",
   "metadata": {},
   "source": [
    "After Wrangling and cleaning the data these are the insights I found out from the data:\n",
    "\n",
    "1. Golden Retriever is the dog breed that has the most number of tweets followed by Labrador retriever and pembroke"
   ]
  },
  {
   "cell_type": "markdown",
   "metadata": {},
   "source": [
    "<img src='./images/1.png' > "
   ]
  },
  {
   "cell_type": "markdown",
   "metadata": {},
   "source": [
    "2. Golden Retriever is the dog breed which is the most liked followed by labrador and Pembroke but wait a minute these were also the ones who had most number of tweets as well. <b> We are missing something here, so we won't consider this chart instead we will find the average </b>"
   ]
  },
  {
   "cell_type": "markdown",
   "metadata": {},
   "source": [
    "<img src='./images/2.png'>"
   ]
  },
  {
   "cell_type": "markdown",
   "metadata": {},
   "source": [
    "3. The scenario changed completely, according to this the most liked dog on average (considering the fact the dog has minimum 10 tweets) is Standard_poodle followed by French bulldog and cocker spaniel"
   ]
  },
  {
   "cell_type": "markdown",
   "metadata": {},
   "source": [
    "<img src='./images/3.png' >"
   ]
  },
  {
   "cell_type": "markdown",
   "metadata": {},
   "source": [
    "4. Golden Retriever is the dog breed which is the most retweeted followed by labrador and Pembroke but wait a minute these were also the ones who had most number of tweets as well. <b> We are missing something here, so we won't consider this chart instead we will find the average </b>"
   ]
  },
  {
   "cell_type": "markdown",
   "metadata": {},
   "source": [
    "<img src='./images/4.png' >"
   ]
  },
  {
   "cell_type": "markdown",
   "metadata": {},
   "source": [
    "5. Standard poodle does it again followed by French bulldog and cocker spaniel. Tough luck Golden Retriever!!"
   ]
  },
  {
   "cell_type": "markdown",
   "metadata": {},
   "source": [
    "<img src='./images/5.png' >"
   ]
  }
 ],
 "metadata": {
  "kernelspec": {
   "display_name": "Python 3",
   "language": "python",
   "name": "python3"
  },
  "language_info": {
   "codemirror_mode": {
    "name": "ipython",
    "version": 3
   },
   "file_extension": ".py",
   "mimetype": "text/x-python",
   "name": "python",
   "nbconvert_exporter": "python",
   "pygments_lexer": "ipython3",
   "version": "3.6.3"
  }
 },
 "nbformat": 4,
 "nbformat_minor": 2
}
